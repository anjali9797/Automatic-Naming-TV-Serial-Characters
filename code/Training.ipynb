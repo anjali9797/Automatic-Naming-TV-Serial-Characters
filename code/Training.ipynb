{
  "nbformat": 4,
  "nbformat_minor": 0,
  "metadata": {
    "colab": {
      "name": "Training.ipynb",
      "provenance": [],
      "collapsed_sections": []
    },
    "kernelspec": {
      "name": "python3",
      "display_name": "Python 3"
    },
    "language_info": {
      "name": "python"
    }
  },
  "cells": [
    {
      "cell_type": "code",
      "metadata": {
        "id": "D0ehu1ru3Dvu"
      },
      "source": [
        "import pandas as pd\n",
        "import numpy as np\n",
        "from sklearn.model_selection import train_test_split\n",
        "from sklearn import svm\n"
      ],
      "execution_count": 1,
      "outputs": []
    },
    {
      "cell_type": "code",
      "metadata": {
        "colab": {
          "base_uri": "https://localhost:8080/"
        },
        "id": "m2L-ArGz6pOl",
        "outputId": "f6367439-27d7-4d88-fd8f-1bccad497d52"
      },
      "source": [
        "from google.colab import drive\n",
        "drive.mount('/content/drive')\n"
      ],
      "execution_count": 2,
      "outputs": [
        {
          "output_type": "stream",
          "text": [
            "Mounted at /content/drive\n"
          ],
          "name": "stdout"
        }
      ]
    },
    {
      "cell_type": "code",
      "metadata": {
        "id": "mqxZ6T3y7FxW"
      },
      "source": [
        "df=pd.read_csv(\"/content/drive/MyDrive/feature_data.csv\")\n"
      ],
      "execution_count": 4,
      "outputs": []
    },
    {
      "cell_type": "code",
      "metadata": {
        "id": "xjv42Ud07Yn3"
      },
      "source": [
        "labels=df.iloc[:,-1:]\n",
        "features=df.drop('Name',axis = 1)"
      ],
      "execution_count": 5,
      "outputs": []
    },
    {
      "cell_type": "code",
      "metadata": {
        "id": "oWDTfto3-KPk"
      },
      "source": [
        "X_train, X_test, y_train, y_test = train_test_split(features, labels, test_size=0.2,random_state=109) # 70% training and 30% test\n"
      ],
      "execution_count": 6,
      "outputs": []
    },
    {
      "cell_type": "code",
      "metadata": {
        "id": "b_n0Z4wBVdOs"
      },
      "source": [
        "X_train=np.array(X_train)\n",
        "X_test=np.array(X_test)\n",
        "y_train=np.array(y_train)\n",
        "y_test=np.array(y_test)"
      ],
      "execution_count": 7,
      "outputs": []
    },
    {
      "cell_type": "code",
      "metadata": {
        "colab": {
          "base_uri": "https://localhost:8080/"
        },
        "id": "4TaV5MM0-Vr0",
        "outputId": "912f9e64-735e-42e2-b363-710c77e93f93"
      },
      "source": [
        "clf = svm.SVC(kernel='linear',C=20) # Linear Kernel\n",
        "\n",
        "#Train the model using the training sets\n",
        "clf.fit(X_train, y_train)\n",
        "\n",
        "#Predict the response for test dataset\n",
        "y_pred = clf.predict(X_test)"
      ],
      "execution_count": 8,
      "outputs": [
        {
          "output_type": "stream",
          "text": [
            "/usr/local/lib/python3.7/dist-packages/sklearn/utils/validation.py:760: DataConversionWarning: A column-vector y was passed when a 1d array was expected. Please change the shape of y to (n_samples, ), for example using ravel().\n",
            "  y = column_or_1d(y, warn=True)\n"
          ],
          "name": "stderr"
        }
      ]
    },
    {
      "cell_type": "code",
      "metadata": {
        "colab": {
          "base_uri": "https://localhost:8080/"
        },
        "id": "Etp7b1ty-hV5",
        "outputId": "0b9ae7f7-00b7-4334-f133-3ebb13834f5c"
      },
      "source": [
        "from sklearn import metrics\n",
        "\n",
        "# Model Accuracy: how often is the classifier correct?\n",
        "print(\"Accuracy:\",metrics.accuracy_score(y_test, y_pred))"
      ],
      "execution_count": 9,
      "outputs": [
        {
          "output_type": "stream",
          "text": [
            "Accuracy: 0.8370867273598467\n"
          ],
          "name": "stdout"
        }
      ]
    },
    {
      "cell_type": "code",
      "metadata": {
        "colab": {
          "base_uri": "https://localhost:8080/"
        },
        "id": "83HbpNR2-3aR",
        "outputId": "0b868c92-9102-4d3a-c09a-b0c61f9a9c8e"
      },
      "source": [
        "metrics.confusion_matrix(y_test,y_pred)"
      ],
      "execution_count": 10,
      "outputs": [
        {
          "output_type": "execute_result",
          "data": {
            "text/plain": [
              "array([[238,   0,   3,   0,  15,   0,  14,   0,   0,   0,   0],\n",
              "       [  0,  10,   0,   0,   0,   0,   0,   0,   0,   0,   0],\n",
              "       [  9,   1, 251,   0,  12,   0,   1,   0,   0,   3,   1],\n",
              "       [  0,   0,   0,  89,   0,   0,   0,  10,   6,   0,   0],\n",
              "       [ 27,   0,   8,   0, 130,   0,  31,   0,   0,   0,   0],\n",
              "       [  0,   0,   2,   0,   0,   4,   0,   0,   0,   0,   0],\n",
              "       [ 11,   0,   0,   0,   4,   0, 283,   5,   0,   0,   0],\n",
              "       [  0,   0,   1,   9,   0,   0,   3, 427,  61,   0,   0],\n",
              "       [  0,   0,   0,   8,   0,   0,   0,  91, 288,   0,   0],\n",
              "       [  0,   0,   2,   0,   0,   0,   0,   0,   0,  17,   0],\n",
              "       [  0,   0,   2,   0,   0,   0,   0,   0,   0,   0,  10]])"
            ]
          },
          "metadata": {
            "tags": []
          },
          "execution_count": 10
        }
      ]
    },
    {
      "cell_type": "code",
      "metadata": {
        "id": "2WE6kOYTFT-B"
      },
      "source": [
        "# np.save('model.npy',clf)\n",
        "import pickle\n",
        "\n",
        "pkl_filename = \"pickle_model.pkl\"\n",
        "with open(pkl_filename, 'wb') as file:\n",
        "    pickle.dump(clf, file)"
      ],
      "execution_count": 11,
      "outputs": []
    },
    {
      "cell_type": "markdown",
      "metadata": {
        "id": "_e_HtBPMXYnc"
      },
      "source": [
        "**Experimenting with the value of C**"
      ]
    },
    {
      "cell_type": "code",
      "metadata": {
        "colab": {
          "base_uri": "https://localhost:8080/"
        },
        "id": "gkYblA27F0bW",
        "outputId": "0912dec2-9936-4a7c-c505-9faf58e99046"
      },
      "source": [
        "c=[0.1,1,5,10,20,50]\n",
        "acc=list()\n",
        "for i in c:\n",
        "  clf = svm.SVC(kernel='linear',C=i) # Linear Kernel\n",
        "  clf.fit(X_train, y_train)\n",
        "  y_pred = clf.predict(X_test)\n",
        "  acc.append(metrics.accuracy_score(y_test, y_pred))\n",
        "\n"
      ],
      "execution_count": 16,
      "outputs": [
        {
          "output_type": "stream",
          "text": [
            "/usr/local/lib/python3.7/dist-packages/sklearn/utils/validation.py:760: DataConversionWarning: A column-vector y was passed when a 1d array was expected. Please change the shape of y to (n_samples, ), for example using ravel().\n",
            "  y = column_or_1d(y, warn=True)\n",
            "/usr/local/lib/python3.7/dist-packages/sklearn/utils/validation.py:760: DataConversionWarning: A column-vector y was passed when a 1d array was expected. Please change the shape of y to (n_samples, ), for example using ravel().\n",
            "  y = column_or_1d(y, warn=True)\n",
            "/usr/local/lib/python3.7/dist-packages/sklearn/utils/validation.py:760: DataConversionWarning: A column-vector y was passed when a 1d array was expected. Please change the shape of y to (n_samples, ), for example using ravel().\n",
            "  y = column_or_1d(y, warn=True)\n",
            "/usr/local/lib/python3.7/dist-packages/sklearn/utils/validation.py:760: DataConversionWarning: A column-vector y was passed when a 1d array was expected. Please change the shape of y to (n_samples, ), for example using ravel().\n",
            "  y = column_or_1d(y, warn=True)\n",
            "/usr/local/lib/python3.7/dist-packages/sklearn/utils/validation.py:760: DataConversionWarning: A column-vector y was passed when a 1d array was expected. Please change the shape of y to (n_samples, ), for example using ravel().\n",
            "  y = column_or_1d(y, warn=True)\n",
            "/usr/local/lib/python3.7/dist-packages/sklearn/utils/validation.py:760: DataConversionWarning: A column-vector y was passed when a 1d array was expected. Please change the shape of y to (n_samples, ), for example using ravel().\n",
            "  y = column_or_1d(y, warn=True)\n"
          ],
          "name": "stderr"
        }
      ]
    },
    {
      "cell_type": "code",
      "metadata": {
        "colab": {
          "base_uri": "https://localhost:8080/",
          "height": 296
        },
        "id": "P9R5vaL_YXda",
        "outputId": "1bb641b9-5bb4-4248-96b9-78770a3b8125"
      },
      "source": [
        "from matplotlib import pyplot as plt\n",
        "plt.plot(c,acc)\n",
        "plt.xlabel(\"Value of Parameter C\")\n",
        "plt.ylabel(\"Value of accuracy\")"
      ],
      "execution_count": 17,
      "outputs": [
        {
          "output_type": "execute_result",
          "data": {
            "text/plain": [
              "Text(0, 0.5, 'Value of accuracy')"
            ]
          },
          "metadata": {
            "tags": []
          },
          "execution_count": 17
        },
        {
          "output_type": "display_data",
          "data": {
            "image/png": "[encoded data removed]",
            "text/plain": [
              "<Figure size 432x288 with 1 Axes>"
            ]
          },
          "metadata": {
            "tags": [],
            "needs_background": "light"
          }
        }
      ]
    }
  ]
}